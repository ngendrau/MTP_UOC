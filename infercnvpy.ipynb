import infercnvpy as cnv
import os
import scanpy as sc
import pandas as pd
import numpy as np
import scipy.sparse as sp
import datatable as dt

rootPath = '/path/'
counts_path = os.path.join(rootPath, 'counts_matrix_so2_downsampled.tsv')
metadata_path = os.path.join(rootPath, 'annotations_imaxt_so2_downsampled.tsv')
gene_list_path = os.path.join(rootPath, "genes_mouse.tsv")

outDir = "/path/"


os.makedirs(os.path.join(outDir, "figures"), exist_ok=True)
os.makedirs(os.path.join(outDir, "tables"), exist_ok=True)
os.makedirs(os.path.join(outDir, "data"), exist_ok=True)
sc.settings.figdir = os.path.join(outDir, "figures")


metaDF = pd.read_csv(metadata_path, sep="\t", header=0)
# metaDF.columns = ('cell_name')
geneAnnot = pd.read_csv(gene_list_path, sep="\t", header=None)
# add column names
geneAnnot.columns = ['gene_name', 'chr', 'start', 'end']
geneAnnot.set_index('gene_name', inplace=True)
# show any row that is nan
geneAnnot[geneAnnot.isna().any(axis=1)]


counts = dt.fread(counts_path)
# Gene by cell name
counts = counts.to_pandas()
# convert into anndata
gene_names = counts['index'].values
cell_names = counts.columns[1:]
counts_mat = counts.iloc[:, 1:].values
spMat = sp.csr_matrix(counts_mat.T)
adata = sc.AnnData(spMat, obs=pd.DataFrame(index=cell_names), var=pd.DataFrame(index=gene_names))

# add patient and cell type by parsing the adata.obs.index
for i in adata.obs.index:
    cell_name, batch, mouse, strain, cell_type = i.split("_")
    adata.obs.at[i, "cell_name"] = cell_name
    adata.obs.at[i, "mouse"] = mouse
    adata.obs.at[i, "batch"] = batch
    adata.obs.at[i, "strain"] = strain
    adata.obs.at[i, "cell_type"] = cell_type


adata.obs['mouse'].value_counts()
adata.obs['strain'].value_counts()
adata.obs['cell_type'].value_counts()
pd.crosstab(adata.obs['mouse'], adata.obs['cell_type'])

# add metadata to var
adata.var = adata.var.join(geneAnnot, how="left")
# find features where the chromosome is nan
keep_features = ~adata.var.chr.isna()
adata = adata[:, keep_features].copy()

# save
adata.write(os.path.join(outDir, "data", "adata.h5ad"))


pd.crosstab(adata.obs['mouse'], adata.obs['cell_type'])

# add column, is_cancer, true if cell_type is Cancer.cell, false o.w.
adata.obs['is_cancer'] = adata.obs['cell_type'] == "Cancer.cell"


# To pick one mouse sample
bdata = adata[adata.obs['mouse'] == "SITTE9"].copy()
# set var names to unique
bdata.var_names_make_unique()
bdata.layers['counts'] = bdata.X.copy()
# normalize 
sc.pp.normalize_total(bdata, target_sum=1e4)
# log transform
sc.pp.log1p(bdata)

# rename chr to chromosome
bdata.var.columns = ['chromosome', 'start', 'end']
# append 'chr' to the chromosome names
bdata.var['chromosome'] = 'chr' + bdata.var['chromosome'].astype(str)
# convert is_cancer to str
bdata.obs['is_cancer'] = bdata.obs['is_cancer'].astype(str)

# find rows in var where chromsome is nan
bdata.var[bdata.var['chromosome'].isna()]

window_size = 200

cnv.tl.infercnv(
    bdata,
    reference_key="is_cancer",
    reference_cat=[
        "False",
    ],
    exclude_chromosomes=None,
    window_size=window_size,
    step=1
)

# Plot the heatmap
cnv.pl.chromosome_heatmap(bdata, groupby="cell_type", show=False, save=f"_chromosome_heatmap_{window_size}.png")

bdata.var.chromosome[bdata.var.chromosome == 'chrnan']

cnv.tl.pca(bdata)
cnv.pp.neighbors(bdata)
cnv.tl.leiden(bdata)

# recompute the dendogram (sometimes it forgets)
cnv.pl.chromosome_heatmap(bdata, groupby="cnv_leiden", dendrogram=True, save=f"_chromosome_heatmap_leiden_{window_size}.png", show=False)
pd.crosstab(bdata.obs['cnv_leiden'], bdata.obs['cell_type'])
